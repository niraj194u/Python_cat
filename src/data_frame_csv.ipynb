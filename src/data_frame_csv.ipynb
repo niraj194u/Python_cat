{
 "cells": [
  {
   "cell_type": "code",
   "execution_count": null,
   "metadata": {},
   "outputs": [],
   "source": []
  },
  {
   "cell_type": "code",
   "execution_count": 12,
   "metadata": {},
   "outputs": [
    {
     "data": {
      "text/html": [
       "<div>\n",
       "<style scoped>\n",
       "    .dataframe tbody tr th:only-of-type {\n",
       "        vertical-align: middle;\n",
       "    }\n",
       "\n",
       "    .dataframe tbody tr th {\n",
       "        vertical-align: top;\n",
       "    }\n",
       "\n",
       "    .dataframe thead th {\n",
       "        text-align: right;\n",
       "    }\n",
       "</style>\n",
       "<table border=\"1\" class=\"dataframe\">\n",
       "  <thead>\n",
       "    <tr style=\"text-align: right;\">\n",
       "      <th></th>\n",
       "      <th>First Name</th>\n",
       "      <th>Last Name</th>\n",
       "      <th>Sex</th>\n",
       "      <th>Email</th>\n",
       "      <th>Date of birth</th>\n",
       "      <th>Job Title</th>\n",
       "    </tr>\n",
       "  </thead>\n",
       "  <tbody>\n",
       "    <tr>\n",
       "      <th>0</th>\n",
       "      <td>Shelby</td>\n",
       "      <td>Terrell</td>\n",
       "      <td>Male</td>\n",
       "      <td>elijah57@example.net</td>\n",
       "      <td>10/26/1945</td>\n",
       "      <td>Games developer</td>\n",
       "    </tr>\n",
       "    <tr>\n",
       "      <th>1</th>\n",
       "      <td>Phillip</td>\n",
       "      <td>Summers</td>\n",
       "      <td>Female</td>\n",
       "      <td>bethany14@example.com</td>\n",
       "      <td>3/24/1910</td>\n",
       "      <td>Phytotherapist</td>\n",
       "    </tr>\n",
       "    <tr>\n",
       "      <th>2</th>\n",
       "      <td>Kristine</td>\n",
       "      <td>Travis</td>\n",
       "      <td>Male</td>\n",
       "      <td>bthompson@example.com</td>\n",
       "      <td>7/2/1992</td>\n",
       "      <td>Homeopath</td>\n",
       "    </tr>\n",
       "    <tr>\n",
       "      <th>3</th>\n",
       "      <td>Yesenia</td>\n",
       "      <td>Martinez</td>\n",
       "      <td>Male</td>\n",
       "      <td>kaitlinkaiser@example.com</td>\n",
       "      <td>8/3/2017</td>\n",
       "      <td>Market researcher</td>\n",
       "    </tr>\n",
       "    <tr>\n",
       "      <th>4</th>\n",
       "      <td>Lori</td>\n",
       "      <td>Todd</td>\n",
       "      <td>Male</td>\n",
       "      <td>buchananmanuel@example.net</td>\n",
       "      <td>12/1/1938</td>\n",
       "      <td>Veterinary surgeon</td>\n",
       "    </tr>\n",
       "  </tbody>\n",
       "</table>\n",
       "</div>"
      ],
      "text/plain": [
       "  First Name Last Name     Sex                       Email Date of birth  \\\n",
       "0     Shelby   Terrell    Male        elijah57@example.net    10/26/1945   \n",
       "1    Phillip   Summers  Female       bethany14@example.com     3/24/1910   \n",
       "2   Kristine    Travis    Male       bthompson@example.com      7/2/1992   \n",
       "3    Yesenia  Martinez    Male   kaitlinkaiser@example.com      8/3/2017   \n",
       "4       Lori      Todd    Male  buchananmanuel@example.net     12/1/1938   \n",
       "\n",
       "            Job Title  \n",
       "0     Games developer  \n",
       "1      Phytotherapist  \n",
       "2           Homeopath  \n",
       "3   Market researcher  \n",
       "4  Veterinary surgeon  "
      ]
     },
     "execution_count": 12,
     "metadata": {},
     "output_type": "execute_result"
    }
   ],
   "source": [
    "import pandas as pd\n",
    "\n",
    "# reading csv file \n",
    "df = pd.read_csv(r\"D:\\Python_cat\\people_data.csv\") \n",
    "\n",
    "df"
   ]
  },
  {
   "cell_type": "code",
   "execution_count": 13,
   "metadata": {},
   "outputs": [
    {
     "name": "stdout",
     "output_type": "stream",
     "text": [
      "  First Name                       Email\n",
      "0     Shelby        elijah57@example.net\n",
      "1    Phillip       bethany14@example.com\n",
      "2   Kristine       bthompson@example.com\n",
      "3    Yesenia   kaitlinkaiser@example.com\n",
      "4       Lori  buchananmanuel@example.net\n"
     ]
    }
   ],
   "source": [
    "df = pd.read_csv(\"D:\\Python_cat\\people_data.csv\", usecols=[\"First Name\", \"Email\"])\n",
    "print(df)"
   ]
  },
  {
   "cell_type": "code",
   "execution_count": 14,
   "metadata": {},
   "outputs": [
    {
     "name": "stdout",
     "output_type": "stream",
     "text": [
      "           Last Name     Sex                       Email Date of birth  \\\n",
      "First Name                                                               \n",
      "Shelby       Terrell    Male        elijah57@example.net    10/26/1945   \n",
      "Phillip      Summers  Female       bethany14@example.com     3/24/1910   \n",
      "Kristine      Travis    Male       bthompson@example.com      7/2/1992   \n",
      "Yesenia     Martinez    Male   kaitlinkaiser@example.com      8/3/2017   \n",
      "Lori            Todd    Male  buchananmanuel@example.net     12/1/1938   \n",
      "\n",
      "                     Job Title  \n",
      "First Name                      \n",
      "Shelby         Games developer  \n",
      "Phillip         Phytotherapist  \n",
      "Kristine             Homeopath  \n",
      "Yesenia      Market researcher  \n",
      "Lori        Veterinary surgeon  \n"
     ]
    }
   ],
   "source": [
    "df = pd.read_csv(\"D:\\Python_cat\\people_data.csv\", index_col=\"First Name\")\n",
    "print(df)"
   ]
  },
  {
   "cell_type": "code",
   "execution_count": 15,
   "metadata": {},
   "outputs": [],
   "source": [
    "df = pd.read_csv(\"D:\\Python_cat\\people_data.csv\", na_values=[\"N/A\", \"Unknown\"])"
   ]
  }
 ],
 "metadata": {
  "kernelspec": {
   "display_name": "Python 3",
   "language": "python",
   "name": "python3"
  },
  "language_info": {
   "codemirror_mode": {
    "name": "ipython",
    "version": 3
   },
   "file_extension": ".py",
   "mimetype": "text/x-python",
   "name": "python",
   "nbconvert_exporter": "python",
   "pygments_lexer": "ipython3",
   "version": "3.11.0"
  }
 },
 "nbformat": 4,
 "nbformat_minor": 2
}
